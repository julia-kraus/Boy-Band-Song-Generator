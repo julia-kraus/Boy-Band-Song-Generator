{
 "cells": [
  {
   "cell_type": "code",
   "execution_count": 8,
   "metadata": {},
   "outputs": [],
   "source": [
    "import pathlib\n",
    "import re"
   ]
  },
  {
   "cell_type": "markdown",
   "metadata": {},
   "source": [
    "The goal is to concatenate all three data file and remove the song separator. Multiple new line characters and spaces are replaced by one whitespace. Leading and trailing white spaces are stripped. The songs are saved in a list. "
   ]
  },
  {
   "cell_type": "code",
   "execution_count": 4,
   "metadata": {},
   "outputs": [],
   "source": [
    "files = ['lyrics_1.txt', 'lyrics_2.txt', 'lyrics_4.txt']"
   ]
  },
  {
   "cell_type": "code",
   "execution_count": 48,
   "metadata": {},
   "outputs": [],
   "source": [
    "combined_songs = []\n",
    "for f in files:\n",
    "\n",
    "    with open('../data/' + f) as fp:\n",
    "        data = fp.read()\n",
    "        all_songs = data.split('<|endoftext|>')\n",
    "        for song in all_songs:\n",
    "            song = re.sub(\"\\n\", \" \", song)\n",
    "            song = re.sub(\"\\s+\", \" \", song).strip()\n",
    "            \n",
    "            combined_songs.append(song)\n",
    "        \n",
    "    "
   ]
  },
  {
   "cell_type": "code",
   "execution_count": 54,
   "metadata": {},
   "outputs": [
    {
     "data": {
      "text/plain": [
       "\"There's a thousand words that I could say To make you come home, yeah Seems so long ago you walked away Left me alone And I remember what you said to me You were acting so strange And maybe I was too blind to see That you needed a change Was it something I said To make you turn away? To make you walk out and leave me cold? If I could just find a way To make it so that you were right here Right now I've been sitting here Can't get you off my mind (Can't get you off my mind) I've tried my best to be a man and be strong I drove myself insane Wishing I could touch your face (touch your face) But the truth remains, you're Gone You're gone Baby, you're gone Girl, you're gone Baby girl, you're gone You're gone You're Now I don't wanna make excuses, baby Won't change the fact that you're gone No, no But if there's something that I could do Won't you please let me know? The time is passing so slowly now Guess that's my life without you (Guess that's my life without you) And maybe I could change my every day But baby, I don't want to So I'll just hang around And find some things to do To take my mind off missing you (Take my mind off missing you) And I know in my heart You can't say that you don't love me too Please say you do, yeah, yeah I've been sitting here (sitting here) Can't get you off my mind (Can't get you off my mind) I've tried my best to be a man and be strong (My best to be a man and be strong) I drove myself insane Wishing I could touch your face (Wishing I could touch your face) But the truth remains, you're (Truth remains, you're) Gone You're gone You're gone You're gone You're gone You're gone Oh-oh-oh What will I do (ooh-ooh) If I can't be with you? Tell me where will I turn to? Baby, who will I be? Now that we are apart Am I still in your heart? Baby, why don't you see That I need you here with me? Oh-oh-oh-oh, oh! I've been sitting here (sitting here) Can't get you off my mind (Can't get you off my mind) I've tried my best to be a man and be strong (My best to be a man) I drove myself insane Wishing I could touch your face (Touch you, baby, oh-oh) But the truth remains, you're (The truth remains you're gone) I've been sitting here (sitting here) Can't get you off my mind (Can't get you off my mind) I've tried my best to be a man and be strong (My best to be a man) I drove myself insane (oh-oh-oh) Wishing I could touch your face (Oh-oh-oh-oh) But the truth remains, you're (Baby, the truth is you're) Gone You're gone You're gone You're gone Baby girl, you're gone You're gone But the truth remains, you're...\""
      ]
     },
     "execution_count": 54,
     "metadata": {},
     "output_type": "execute_result"
    }
   ],
   "source": [
    "combined_songs[3]"
   ]
  },
  {
   "cell_type": "code",
   "execution_count": 56,
   "metadata": {},
   "outputs": [],
   "source": [
    "pickle.dump(combined_songs, open('corpus.pkl', 'wb'))"
   ]
  }
 ],
 "metadata": {
  "kernelspec": {
   "display_name": "Python 3",
   "language": "python",
   "name": "python3"
  },
  "language_info": {
   "codemirror_mode": {
    "name": "ipython",
    "version": 3
   },
   "file_extension": ".py",
   "mimetype": "text/x-python",
   "name": "python",
   "nbconvert_exporter": "python",
   "pygments_lexer": "ipython3",
   "version": "3.8.5"
  }
 },
 "nbformat": 4,
 "nbformat_minor": 4
}
